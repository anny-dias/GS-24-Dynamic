{
  "nbformat": 4,
  "nbformat_minor": 0,
  "metadata": {
    "colab": {
      "provenance": []
    },
    "kernelspec": {
      "name": "python3",
      "display_name": "Python 3"
    },
    "language_info": {
      "name": "python"
    }
  },
  "cells": [
    {
      "cell_type": "code",
      "execution_count": 1,
      "metadata": {
        "colab": {
          "base_uri": "https://localhost:8080/"
        },
        "id": "gyBZ7J9SV2Yt",
        "outputId": "dd6322e7-7f31-4e87-d969-2a852a2a8f33"
      },
      "outputs": [
        {
          "output_type": "stream",
          "name": "stdout",
          "text": [
            "Requirement already satisfied: numpy in /usr/local/lib/python3.10/dist-packages (1.25.2)\n"
          ]
        }
      ],
      "source": [
        "pip install numpy"
      ]
    },
    {
      "cell_type": "code",
      "source": [
        "#Anny Dias e Luana Cabezaolias"
      ],
      "metadata": {
        "id": "S4P9WUJjjxWa"
      },
      "execution_count": null,
      "outputs": []
    },
    {
      "cell_type": "code",
      "source": [
        "import numpy as np\n",
        "\n",
        "def calcular_valor_area_marinha(area):\n",
        "    \"\"\"\n",
        "    Função para calcular o valor de uma área marinha com base em critérios como biodiversidade, vulnerabilidade e conectividade.\n",
        "    Args:\n",
        "    - area: Dados da área marinha (por exemplo, biodiversidade, vulnerabilidade, conectividade).\n",
        "    Returns:\n",
        "    - valor: Valor da área marinha calculado com base nos critérios.\n",
        "    \"\"\"\n",
        "    # Implementação fictícia para calcular o valor da área marinha\n",
        "    valor = area['biodiversidade'] + area['vulnerabilidade'] + area['conectividade']\n",
        "    return valor\n",
        "\n",
        "def otimizar_alocacao_recursos(recursos_disponiveis, areas_marinhas):\n",
        "    \"\"\"\n",
        "    Função para otimizar a alocação de recursos para a criação e manutenção de áreas marinhas protegidas.\n",
        "    Args:\n",
        "    - recursos_disponiveis: Recursos disponíveis para alocação.\n",
        "    - areas_marinhas: Lista de áreas marinhas com seus respectivos dados.\n",
        "    Returns:\n",
        "    - areas_selecionadas: Lista das áreas marinhas selecionadas para proteção.\n",
        "    \"\"\"\n",
        "    # Inicializa matriz para armazenar valores ótimos de cada subproblema\n",
        "    matriz_valores = np.zeros((len(areas_marinhas) + 1, recursos_disponiveis + 1))\n",
        "\n",
        "    # Preenche a matriz com os valores ótimos\n",
        "    for i in range(1, len(areas_marinhas) + 1):\n",
        "        for j in range(1, recursos_disponiveis + 1):\n",
        "            # Verifica se a área marinha atual pode ser incluída com os recursos disponíveis\n",
        "            if areas_marinhas[i - 1]['custo'] <= j:\n",
        "                # Calcula o valor total incluindo e excluindo a área marinha atual\n",
        "                matriz_valores[i][j] = max(matriz_valores[i - 1][j],\n",
        "                                            matriz_valores[i - 1][j - areas_marinhas[i - 1]['custo']] + calcular_valor_area_marinha(areas_marinhas[i - 1]))\n",
        "            else:\n",
        "                matriz_valores[i][j] = matriz_valores[i - 1][j]\n",
        "\n",
        "    # Recupera as áreas marinhas selecionadas\n",
        "    recursos_restantes = recursos_disponiveis\n",
        "    areas_selecionadas = []\n",
        "    for i in range(len(areas_marinhas), 0, -1):\n",
        "        if matriz_valores[i][recursos_restantes] != matriz_valores[i - 1][recursos_restantes]:\n",
        "            areas_selecionadas.append(areas_marinhas[i - 1])\n",
        "            recursos_restantes -= areas_marinhas[i - 1]['custo']\n",
        "\n",
        "    return areas_selecionadas\n",
        "\n",
        "# Dados fictícios de áreas marinhas com seus respectivos custos, biodiversidade, vulnerabilidade e conectividade\n",
        "areas_marinhas = [\n",
        "    {'custo': 10, 'biodiversidade': 8, 'vulnerabilidade': 5, 'conectividade': 7},\n",
        "    {'custo': 15, 'biodiversidade': 6, 'vulnerabilidade': 9, 'conectividade': 4},\n",
        "    {'custo': 20, 'biodiversidade': 9, 'vulnerabilidade': 7, 'conectividade': 6},\n",
        "    {'custo': 8, 'biodiversidade': 7, 'vulnerabilidade': 8, 'conectividade': 9},\n",
        "    {'custo': 12, 'biodiversidade': 5, 'vulnerabilidade': 6, 'conectividade': 8}\n",
        "]\n",
        "\n",
        "recursos_disponiveis = 30\n",
        "\n",
        "# Chama a função para otimizar a alocação de recursos\n",
        "areas_selecionadas = otimizar_alocacao_recursos(recursos_disponiveis, areas_marinhas)\n",
        "\n",
        "print(\"Áreas selecionadas para proteção:\")\n",
        "for area in areas_selecionadas:\n",
        "    print(area)\n"
      ],
      "metadata": {
        "colab": {
          "base_uri": "https://localhost:8080/"
        },
        "id": "C-NcjBSuWIqQ",
        "outputId": "afaf2fcb-6d96-4997-a772-d4f3019ab5b4"
      },
      "execution_count": 2,
      "outputs": [
        {
          "output_type": "stream",
          "name": "stdout",
          "text": [
            "Áreas selecionadas para proteção:\n",
            "{'custo': 12, 'biodiversidade': 5, 'vulnerabilidade': 6, 'conectividade': 8}\n",
            "{'custo': 8, 'biodiversidade': 7, 'vulnerabilidade': 8, 'conectividade': 9}\n",
            "{'custo': 10, 'biodiversidade': 8, 'vulnerabilidade': 5, 'conectividade': 7}\n"
          ]
        }
      ]
    },
    {
      "cell_type": "code",
      "source": [
        "import numpy as np\n",
        "\n",
        "def calcular_distancia_entre_pontos(ponto1, ponto2):\n",
        "    \"\"\"\n",
        "    Função para calcular a distância entre dois pontos no oceano.\n",
        "    Args:\n",
        "    - ponto1: Coordenadas do primeiro ponto (x1, y1).\n",
        "    - ponto2: Coordenadas do segundo ponto (x2, y2).\n",
        "    Returns:\n",
        "    - distancia: Distância entre os dois pontos.\n",
        "    \"\"\"\n",
        "    distancia = np.sqrt((ponto1[0] - ponto2[0])**2 + (ponto1[1] - ponto2[1])**2)\n",
        "    return distancia\n",
        "\n",
        "def encontrar_distribuicao_otima_sensores(area_monitoramento, sensores_disponiveis):\n",
        "    \"\"\"\n",
        "    Função para encontrar a distribuição ótima dos sensores de poluição oceânica.\n",
        "    Args:\n",
        "    - area_monitoramento: Área a ser monitorada no oceano.\n",
        "    - sensores_disponiveis: Número de sensores disponíveis para alocação.\n",
        "    Returns:\n",
        "    - distribuicao_otima: Lista das coordenadas dos sensores subaquáticos alocados de forma ótima.\n",
        "    \"\"\"\n",
        "    # Implementação fictícia para encontrar a distribuição ótima dos sensores\n",
        "    distribuicao_otima = []\n",
        "    pontos_monitorados = []\n",
        "\n",
        "    for i in range(sensores_disponiveis):\n",
        "        melhor_ponto = None\n",
        "        menor_distancia = float('inf')\n",
        "        for ponto in area_monitoramento:\n",
        "            if ponto not in pontos_monitorados:\n",
        "                # Calcula a distância total aos sensores já alocados\n",
        "                distancia_total = sum([calcular_distancia_entre_pontos(ponto, sensor) for sensor in distribuicao_otima])\n",
        "                if distancia_total < menor_distancia:\n",
        "                    menor_distancia = distancia_total\n",
        "                    melhor_ponto = ponto\n",
        "        distribuicao_otima.append(melhor_ponto)\n",
        "        pontos_monitorados.append(melhor_ponto)\n",
        "\n",
        "    return distribuicao_otima\n",
        "\n",
        "# Dados fictícios da área de monitoramento e número de sensores disponíveis\n",
        "area_monitoramento = [(10, 20), (30, 40), (50, 60), (70, 80), (90, 100)]\n",
        "sensores_disponiveis = 3\n",
        "\n",
        "# Chama a função para encontrar a distribuição ótima dos sensores\n",
        "distribuicao_otima = encontrar_distribuicao_otima_sensores(area_monitoramento, sensores_disponiveis)\n",
        "\n",
        "print(\"Distribuição ótima dos sensores:\")\n",
        "print(distribuicao_otima)\n"
      ],
      "metadata": {
        "colab": {
          "base_uri": "https://localhost:8080/"
        },
        "id": "u49mxXAjWkjv",
        "outputId": "7788121c-38dd-4364-b2f0-d54c971be93d"
      },
      "execution_count": 3,
      "outputs": [
        {
          "output_type": "stream",
          "name": "stdout",
          "text": [
            "Distribuição ótima dos sensores:\n",
            "[(10, 20), (30, 40), (50, 60)]\n"
          ]
        }
      ]
    },
    {
      "cell_type": "code",
      "source": [
        "# Dados fictícios para área de monitoramento e número de sensores disponíveis\n",
        "area_monitoramento = [(10, 20), (30, 40), (50, 60), (70, 80), (90, 100)]\n",
        "sensores_disponiveis = 3\n",
        "# Chamada da função para encontrar a distribuição ótima dos sensores\n",
        "distribuicao_otima = encontrar_distribuicao_otima_sensores(area_monitoramento, sensores_disponiveis)\n",
        "# Imprime a distribuição ótima dos sensores\n",
        "print(\"Distribuição ótima dos sensores:\")\n",
        "for sensor in distribuicao_otima:\n",
        "    print(sensor)\n"
      ],
      "metadata": {
        "colab": {
          "base_uri": "https://localhost:8080/"
        },
        "id": "KJOhmWBXWw__",
        "outputId": "05757c1d-01e5-4e90-cba7-d5b15bdf8f13"
      },
      "execution_count": 4,
      "outputs": [
        {
          "output_type": "stream",
          "name": "stdout",
          "text": [
            "Distribuição ótima dos sensores:\n",
            "(10, 20)\n",
            "(30, 40)\n",
            "(50, 60)\n"
          ]
        }
      ]
    },
    {
      "cell_type": "code",
      "source": [
        "def calcular_valor_area_marinha(tamanho_area, valor_por_unidade):\n",
        "    \"\"\"\n",
        "    Calcula o valor de uma área marinha.\n",
        "\n",
        "    :param tamanho_area: Tamanho da área marinha (em quilômetros quadrados, por exemplo).\n",
        "    :param valor_por_unidade: Valor monetário por unidade de área (por quilômetro quadrado, por exemplo).\n",
        "    :return: Valor total da área marinha.\n",
        "    \"\"\"\n",
        "    if tamanho_area < 0 or valor_por_unidade < 0:\n",
        "        raise ValueError(\"O tamanho da área e o valor por unidade devem ser não-negativos.\")\n",
        "\n",
        "    valor_total = tamanho_area * valor_por_unidade\n",
        "    return valor_total\n",
        "\n",
        "# Exemplo de uso\n",
        "tamanho_area = 150  # em quilômetros quadrados\n",
        "valor_por_unidade = 2000  # valor por quilômetro quadrado\n",
        "\n",
        "valor_total = calcular_valor_area_marinha(tamanho_area, valor_por_unidade)\n",
        "print(f\"O valor total da área marinha é: R${valor_total}\")\n",
        "\n"
      ],
      "metadata": {
        "colab": {
          "base_uri": "https://localhost:8080/"
        },
        "id": "VODeEajzW3kg",
        "outputId": "aaadaa4d-c6ef-4657-a8a4-191104045b2d"
      },
      "execution_count": 5,
      "outputs": [
        {
          "output_type": "stream",
          "name": "stdout",
          "text": [
            "O valor total da área marinha é: R$300000\n"
          ]
        }
      ]
    },
    {
      "cell_type": "code",
      "source": [
        "import numpy as np\n",
        "\n",
        "def alocacao_recursos(custos, valores, orcamento):\n",
        "    \"\"\"\n",
        "    Otimiza a alocação de recursos usando programação dinâmica.\n",
        "\n",
        "    :param custos: Lista de custos de cada área marinha.\n",
        "    :param valores: Lista de valores de conservação de cada área marinha.\n",
        "    :param orcamento: Orçamento total disponível.\n",
        "    :return: Valor máximo de conservação e lista de áreas selecionadas.\n",
        "    \"\"\"\n",
        "    n = len(custos)\n",
        "    dp = np.zeros((n + 1, orcamento + 1))\n",
        "\n",
        "    # Preenchendo a tabela dp\n",
        "    for i in range(1, n + 1):\n",
        "        for w in range(orcamento + 1):\n",
        "            if custos[i - 1] <= w:\n",
        "                dp[i][w] = max(dp[i - 1][w], dp[i - 1][w - custos[i - 1]] + valores[i - 1])\n",
        "            else:\n",
        "                dp[i][w] = dp[i - 1][w]\n",
        "\n",
        "    # Valor máximo de conservação\n",
        "    valor_maximo = dp[n][orcamento]\n",
        "\n",
        "    # Identificando as áreas selecionadas\n",
        "    w = orcamento\n",
        "    areas_selecionadas = []\n",
        "    for i in range(n, 0, -1):\n",
        "        if dp[i][w] != dp[i - 1][w]:\n",
        "            areas_selecionadas.append(i - 1)\n",
        "            w -= custos[i - 1]\n",
        "\n",
        "    return valor_maximo, areas_selecionadas\n",
        "\n",
        "# Exemplo de uso\n",
        "custos = [10, 20, 30, 40]\n",
        "valores = [60, 100, 120, 240]\n",
        "orcamento = 50\n",
        "\n",
        "valor_maximo, areas_selecionadas = alocacao_recursos(custos, valores, orcamento)\n",
        "\n",
        "print(f\"Valor máximo de conservação: {valor_maximo}\")\n",
        "print(f\"Áreas selecionadas: {areas_selecionadas}\")\n",
        "\n"
      ],
      "metadata": {
        "colab": {
          "base_uri": "https://localhost:8080/",
          "height": 367
        },
        "id": "C26mCuu4W_Cn",
        "outputId": "a7ac846c-b953-49f6-dd88-675d5a73dd0a"
      },
      "execution_count": 12,
      "outputs": [
        {
          "output_type": "stream",
          "name": "stdout",
          "text": [
            "Valor máximo de conservação: 300.0\n",
            "Áreas selecionadas: [3, 0]\n"
          ]
        },
        {
          "output_type": "error",
          "ename": "TypeError",
          "evalue": "object of type 'int' has no len()",
          "traceback": [
            "\u001b[0;31m---------------------------------------------------------------------------\u001b[0m",
            "\u001b[0;31mTypeError\u001b[0m                                 Traceback (most recent call last)",
            "\u001b[0;32m<ipython-input-12-b90edac72860>\u001b[0m in \u001b[0;36m<cell line: 51>\u001b[0;34m()\u001b[0m\n\u001b[1;32m     49\u001b[0m \u001b[0;34m\u001b[0m\u001b[0m\n\u001b[1;32m     50\u001b[0m \u001b[0;31m# Encontrar alocação ótima de recursos\u001b[0m\u001b[0;34m\u001b[0m\u001b[0;34m\u001b[0m\u001b[0m\n\u001b[0;32m---> 51\u001b[0;31m \u001b[0mlucro_maximo\u001b[0m\u001b[0;34m,\u001b[0m \u001b[0mprojetos_selecionados\u001b[0m \u001b[0;34m=\u001b[0m \u001b[0motimizar_alocacao_recursos\u001b[0m\u001b[0;34m(\u001b[0m\u001b[0mprojetos\u001b[0m\u001b[0;34m,\u001b[0m \u001b[0mrecursos_disponiveis\u001b[0m\u001b[0;34m)\u001b[0m\u001b[0;34m\u001b[0m\u001b[0;34m\u001b[0m\u001b[0m\n\u001b[0m\u001b[1;32m     52\u001b[0m \u001b[0;34m\u001b[0m\u001b[0m\n\u001b[1;32m     53\u001b[0m \u001b[0;31m# Exibir resultados\u001b[0m\u001b[0;34m\u001b[0m\u001b[0;34m\u001b[0m\u001b[0m\n",
            "\u001b[0;32m<ipython-input-2-76c0cc6f7343>\u001b[0m in \u001b[0;36motimizar_alocacao_recursos\u001b[0;34m(recursos_disponiveis, areas_marinhas)\u001b[0m\n\u001b[1;32m     23\u001b[0m     \"\"\"\n\u001b[1;32m     24\u001b[0m     \u001b[0;31m# Inicializa matriz para armazenar valores ótimos de cada subproblema\u001b[0m\u001b[0;34m\u001b[0m\u001b[0;34m\u001b[0m\u001b[0m\n\u001b[0;32m---> 25\u001b[0;31m     \u001b[0mmatriz_valores\u001b[0m \u001b[0;34m=\u001b[0m \u001b[0mnp\u001b[0m\u001b[0;34m.\u001b[0m\u001b[0mzeros\u001b[0m\u001b[0;34m(\u001b[0m\u001b[0;34m(\u001b[0m\u001b[0mlen\u001b[0m\u001b[0;34m(\u001b[0m\u001b[0mareas_marinhas\u001b[0m\u001b[0;34m)\u001b[0m \u001b[0;34m+\u001b[0m \u001b[0;36m1\u001b[0m\u001b[0;34m,\u001b[0m \u001b[0mrecursos_disponiveis\u001b[0m \u001b[0;34m+\u001b[0m \u001b[0;36m1\u001b[0m\u001b[0;34m)\u001b[0m\u001b[0;34m)\u001b[0m\u001b[0;34m\u001b[0m\u001b[0;34m\u001b[0m\u001b[0m\n\u001b[0m\u001b[1;32m     26\u001b[0m \u001b[0;34m\u001b[0m\u001b[0m\n\u001b[1;32m     27\u001b[0m     \u001b[0;31m# Preenche a matriz com os valores ótimos\u001b[0m\u001b[0;34m\u001b[0m\u001b[0;34m\u001b[0m\u001b[0m\n",
            "\u001b[0;31mTypeError\u001b[0m: object of type 'int' has no len()"
          ]
        }
      ]
    },
    {
      "cell_type": "code",
      "source": [
        "def otimizar_alocacao_recursos(projetos, recursos_disponiveis):\n",
        "    \"\"\"\n",
        "    Otimiza a alocação de recursos selecionando projetos de forma a maximizar o lucro total,\n",
        "    respeitando a restrição de recursos disponíveis.\n",
        "\n",
        "    :param projetos: Uma lista de tuplas (lucro, recursos_necessarios).\n",
        "    :param recursos_disponiveis: A quantidade total de recursos disponíveis.\n",
        "    :return: O lucro máximo alcançado e a lista de projetos selecionados.\n",
        "    \"\"\"\n",
        "    n = len(projetos)\n",
        "    dp = [[0] * (recursos_disponiveis + 1) for _ in range(n + 1)]\n",
        "\n",
        "    for i in range(1, n + 1):\n",
        "        lucro, recursos_necessarios = projetos[i - 1]\n",
        "        for j in range(1, recursos_disponiveis + 1):\n",
        "            if recursos_necessarios <= j:\n",
        "                dp[i][j] = max(dp[i - 1][j], dp[i - 1][j - recursos_necessarios] + lucro)\n",
        "            else:\n",
        "                dp[i][j] = dp[i - 1][j]\n",
        "\n",
        "    lucro_maximo = dp[n][recursos_disponiveis]\n",
        "    projetos_selecionados = []\n",
        "    j = recursos_disponiveis\n",
        "    for i in range(n, 0, -1):\n",
        "        if dp[i][j] != dp[i - 1][j]:\n",
        "            lucro, recursos_necessarios = projetos[i - 1]\n",
        "            projetos_selecionados.append((lucro, recursos_necessarios))\n",
        "            j -= recursos_necessarios\n",
        "\n",
        "    return lucro_maximo, projetos_selecionados\n",
        "\n",
        "# Dados fictícios\n",
        "projetos = [(10, 2), (15, 3), (20, 4), (25, 5)]\n",
        "recursos_disponiveis = 8\n",
        "\n",
        "# Encontrar alocação ótima de recursos\n",
        "lucro_maximo, projetos_selecionados = otimizar_alocacao_recursos(projetos, recursos_disponiveis)\n",
        "\n",
        "# Exibir resultados\n",
        "print(\"Lucro máximo:\", lucro_maximo)\n",
        "print(\"Projetos selecionados:\")\n",
        "for lucro, recursos_necessarios in projetos_selecionados:\n",
        "    print(f\"Projeto com lucro {lucro} e requer {recursos_necessarios} unidades de recursos.\")"
      ],
      "metadata": {
        "colab": {
          "base_uri": "https://localhost:8080/"
        },
        "id": "owghHX4IgHxy",
        "outputId": "9e3d4abb-6dab-4776-d3c6-8ecb539c896f"
      },
      "execution_count": 13,
      "outputs": [
        {
          "output_type": "stream",
          "name": "stdout",
          "text": [
            "Lucro máximo: 40\n",
            "Projetos selecionados:\n",
            "Projeto com lucro 25 e requer 5 unidades de recursos.\n",
            "Projeto com lucro 15 e requer 3 unidades de recursos.\n"
          ]
        }
      ]
    },
    {
      "cell_type": "code",
      "source": [
        "def calcular_distancia_entre_pontos(ponto1, ponto2):\n",
        "    \"\"\"\n",
        "    Calcula a distância euclidiana entre dois pontos em um plano cartesiano.\n",
        "\n",
        "    :param ponto1: Tupla representando as coordenadas do primeiro ponto (x1, y1).\n",
        "    :param ponto2: Tupla representando as coordenadas do segundo ponto (x2, y2).\n",
        "    :return: A distância entre os dois pontos.\n",
        "    \"\"\"\n",
        "    x1, y1 = ponto1\n",
        "    x2, y2 = ponto2\n",
        "    distancia = ((x2 - x1) ** 2 + (y2 - y1) ** 2) ** 0.5\n",
        "    return distancia\n",
        "\n",
        "# Exemplo de uso\n",
        "ponto1 = (1, 2)\n",
        "ponto2 = (4, 6)\n",
        "distancia = calcular_distancia_entre_pontos(ponto1, ponto2)\n",
        "print(\"A distância entre os pontos é:\", distancia)\n",
        "\n"
      ],
      "metadata": {
        "colab": {
          "base_uri": "https://localhost:8080/"
        },
        "id": "cpwMPZUgiVyp",
        "outputId": "87e71450-fb96-4fd3-f7a0-59b6b27a1f8e"
      },
      "execution_count": 8,
      "outputs": [
        {
          "output_type": "stream",
          "name": "stdout",
          "text": [
            "A distância entre os pontos é: 5.0\n"
          ]
        }
      ]
    },
    {
      "cell_type": "code",
      "source": [
        "import math\n",
        "\n",
        "\n",
        "\n",
        "def distribuir_sensores(retangulo, numero_sensores):\n",
        "    \"\"\"\n",
        "    Distribui sensores igualmente em um retângulo.\n",
        "\n",
        "    :param retangulo: Tupla representando as dimensões do retângulo (largura, altura).\n",
        "    :param numero_sensores: Número de sensores a serem distribuídos.\n",
        "    :return: Uma lista de tuplas representando as coordenadas dos sensores.\n",
        "    \"\"\"\n",
        "    largura, altura = retangulo\n",
        "    area_retangulo = largura * altura\n",
        "    area_por_sensor = area_retangulo / numero_sensores\n",
        "\n",
        "    lado_squadrado = math.sqrt(area_por_sensor)\n",
        "\n",
        "    # Distribuir sensores igualmente\n",
        "    sensores = []\n",
        "    for i in range(int(largura / lado_squadrado)):\n",
        "        for j in range(int(altura / lado_squadrado)):\n",
        "            x = (i + 0.5) * lado_squadrado\n",
        "            y = (j + 0.5) * lado_squadrado\n",
        "            sensores.append((x, y))\n",
        "\n",
        "    return sensores\n",
        "\n",
        "# Exemplo de uso\n",
        "retangulo = (10, 8)  # Largura e altura do retângulo\n",
        "numero_sensores = 20\n",
        "sensores_distribuidos = distribuir_sensores(retangulo, numero_sensores)\n",
        "print(\"Sensores distribuídos:\")\n",
        "for sensor in sensores_distribuidos:\n",
        "    print(sensor)\n",
        "\n"
      ],
      "metadata": {
        "colab": {
          "base_uri": "https://localhost:8080/"
        },
        "id": "ttfkBYAjiklh",
        "outputId": "3c377b2a-8193-48da-dc53-648f6aacb84e"
      },
      "execution_count": 11,
      "outputs": [
        {
          "output_type": "stream",
          "name": "stdout",
          "text": [
            "Sensores distribuídos:\n",
            "(1.0, 1.0)\n",
            "(1.0, 3.0)\n",
            "(1.0, 5.0)\n",
            "(1.0, 7.0)\n",
            "(3.0, 1.0)\n",
            "(3.0, 3.0)\n",
            "(3.0, 5.0)\n",
            "(3.0, 7.0)\n",
            "(5.0, 1.0)\n",
            "(5.0, 3.0)\n",
            "(5.0, 5.0)\n",
            "(5.0, 7.0)\n",
            "(7.0, 1.0)\n",
            "(7.0, 3.0)\n",
            "(7.0, 5.0)\n",
            "(7.0, 7.0)\n",
            "(9.0, 1.0)\n",
            "(9.0, 3.0)\n",
            "(9.0, 5.0)\n",
            "(9.0, 7.0)\n"
          ]
        }
      ]
    }
  ]
}